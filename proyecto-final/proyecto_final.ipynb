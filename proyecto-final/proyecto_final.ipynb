{
 "cells": [
  {
   "cell_type": "code",
   "execution_count": 1,
   "metadata": {},
   "outputs": [],
   "source": [
    "# baseline cnn model for mnist\n",
    "from numpy import mean\n",
    "from numpy import std\n",
    "import matplotlib.pyplot as plt\n",
    "from sklearn.model_selection import KFold\n",
    "from keras.utils import to_categorical\n",
    "from keras.models import Sequential\n",
    "from keras.layers import Conv2D\n",
    "from keras.layers import MaxPooling2D\n",
    "from keras.layers import Dense\n",
    "from keras.layers import Flatten\n",
    "from keras.optimizers import SGD\n",
    "import tensorflow as tf"
   ]
  },
  {
   "cell_type": "code",
   "execution_count": 2,
   "metadata": {},
   "outputs": [],
   "source": [
    "from keras.preprocessing.image import ImageDataGenerator"
   ]
  },
  {
   "cell_type": "code",
   "execution_count": 3,
   "metadata": {},
   "outputs": [
    {
     "name": "stdout",
     "output_type": "stream",
     "text": [
      "Found 2625 files belonging to 525 classes.\n",
      "Found 84635 files belonging to 525 classes.\n",
      "Found 2625 files belonging to 525 classes.\n"
     ]
    }
   ],
   "source": [
    "\n",
    "folder_test = '../archive/test/'\n",
    "dataset_test = tf.keras.utils.image_dataset_from_directory(folder_test, image_size=(224, 224), batch_size=1)\n",
    "\n",
    "folder_train = '../archive/train/'\n",
    "dataset_train = tf.keras.utils.image_dataset_from_directory(folder_train, image_size=(224, 224), batch_size=2)\n",
    "\n",
    "folder_valid = '../archive/valid/'\n",
    "dataset_valid = tf.keras.utils.image_dataset_from_directory(folder_valid, image_size=(224, 224), batch_size=1)"
   ]
  },
  {
   "cell_type": "code",
   "execution_count": 4,
   "metadata": {},
   "outputs": [
    {
     "data": {
      "text/plain": [
       "525"
      ]
     },
     "execution_count": 4,
     "metadata": {},
     "output_type": "execute_result"
    }
   ],
   "source": [
    "dict_class_labels = {j:i for i,j in enumerate(dataset_train.class_names)}\n",
    "len(dict_class_labels)"
   ]
  },
  {
   "cell_type": "code",
   "execution_count": 5,
   "metadata": {},
   "outputs": [
    {
     "name": "stdout",
     "output_type": "stream",
     "text": [
      "{'ABBOTTS BABBLER': 0, 'ABBOTTS BOOBY': 1, 'ABYSSINIAN GROUND HORNBILL': 2, 'AFRICAN CROWNED CRANE': 3, 'AFRICAN EMERALD CUCKOO': 4, 'AFRICAN FIREFINCH': 5, 'AFRICAN OYSTER CATCHER': 6, 'AFRICAN PIED HORNBILL': 7, 'AFRICAN PYGMY GOOSE': 8, 'ALBATROSS': 9, 'ALBERTS TOWHEE': 10, 'ALEXANDRINE PARAKEET': 11, 'ALPINE CHOUGH': 12, 'ALTAMIRA YELLOWTHROAT': 13, 'AMERICAN AVOCET': 14, 'AMERICAN BITTERN': 15, 'AMERICAN COOT': 16, 'AMERICAN DIPPER': 17, 'AMERICAN FLAMINGO': 18, 'AMERICAN GOLDFINCH': 19, 'AMERICAN KESTREL': 20, 'AMERICAN PIPIT': 21, 'AMERICAN REDSTART': 22, 'AMERICAN ROBIN': 23, 'AMERICAN WIGEON': 24, 'AMETHYST WOODSTAR': 25, 'ANDEAN GOOSE': 26, 'ANDEAN LAPWING': 27, 'ANDEAN SISKIN': 28, 'ANHINGA': 29, 'ANIANIAU': 30, 'ANNAS HUMMINGBIRD': 31, 'ANTBIRD': 32, 'ANTILLEAN EUPHONIA': 33, 'APAPANE': 34, 'APOSTLEBIRD': 35, 'ARARIPE MANAKIN': 36, 'ASHY STORM PETREL': 37, 'ASHY THRUSHBIRD': 38, 'ASIAN CRESTED IBIS': 39, 'ASIAN DOLLARD BIRD': 40, 'ASIAN GREEN BEE EATER': 41, 'ASIAN OPENBILL STORK': 42, 'AUCKLAND SHAQ': 43, 'AUSTRAL CANASTERO': 44, 'AUSTRALASIAN FIGBIRD': 45, 'AVADAVAT': 46, 'AZARAS SPINETAIL': 47, 'AZURE BREASTED PITTA': 48, 'AZURE JAY': 49, 'AZURE TANAGER': 50, 'AZURE TIT': 51, 'BAIKAL TEAL': 52, 'BALD EAGLE': 53, 'BALD IBIS': 54, 'BALI STARLING': 55, 'BALTIMORE ORIOLE': 56, 'BANANAQUIT': 57, 'BAND TAILED GUAN': 58, 'BANDED BROADBILL': 59, 'BANDED PITA': 60, 'BANDED STILT': 61, 'BAR-TAILED GODWIT': 62, 'BARN OWL': 63, 'BARN SWALLOW': 64, 'BARRED PUFFBIRD': 65, 'BARROWS GOLDENEYE': 66, 'BAY-BREASTED WARBLER': 67, 'BEARDED BARBET': 68, 'BEARDED BELLBIRD': 69, 'BEARDED REEDLING': 70, 'BELTED KINGFISHER': 71, 'BIRD OF PARADISE': 72, 'BLACK AND YELLOW BROADBILL': 73, 'BLACK BAZA': 74, 'BLACK BREASTED PUFFBIRD': 75, 'BLACK COCKATO': 76, 'BLACK FACED SPOONBILL': 77, 'BLACK FRANCOLIN': 78, 'BLACK HEADED CAIQUE': 79, 'BLACK NECKED STILT': 80, 'BLACK SKIMMER': 81, 'BLACK SWAN': 82, 'BLACK TAIL CRAKE': 83, 'BLACK THROATED BUSHTIT': 84, 'BLACK THROATED HUET': 85, 'BLACK THROATED WARBLER': 86, 'BLACK VENTED SHEARWATER': 87, 'BLACK VULTURE': 88, 'BLACK-CAPPED CHICKADEE': 89, 'BLACK-NECKED GREBE': 90, 'BLACK-THROATED SPARROW': 91, 'BLACKBURNIAM WARBLER': 92, 'BLONDE CRESTED WOODPECKER': 93, 'BLOOD PHEASANT': 94, 'BLUE COAU': 95, 'BLUE DACNIS': 96, 'BLUE GRAY GNATCATCHER': 97, 'BLUE GROSBEAK': 98, 'BLUE GROUSE': 99, 'BLUE HERON': 100, 'BLUE MALKOHA': 101, 'BLUE THROATED PIPING GUAN': 102, 'BLUE THROATED TOUCANET': 103, 'BOBOLINK': 104, 'BORNEAN BRISTLEHEAD': 105, 'BORNEAN LEAFBIRD': 106, 'BORNEAN PHEASANT': 107, 'BRANDT CORMARANT': 108, 'BREWERS BLACKBIRD': 109, 'BROWN CREPPER': 110, 'BROWN HEADED COWBIRD': 111, 'BROWN NOODY': 112, 'BROWN THRASHER': 113, 'BUFFLEHEAD': 114, 'BULWERS PHEASANT': 115, 'BURCHELLS COURSER': 116, 'BUSH TURKEY': 117, 'CAATINGA CACHOLOTE': 118, 'CABOTS TRAGOPAN': 119, 'CACTUS WREN': 120, 'CALIFORNIA CONDOR': 121, 'CALIFORNIA GULL': 122, 'CALIFORNIA QUAIL': 123, 'CAMPO FLICKER': 124, 'CANARY': 125, 'CANVASBACK': 126, 'CAPE GLOSSY STARLING': 127, 'CAPE LONGCLAW': 128, 'CAPE MAY WARBLER': 129, 'CAPE ROCK THRUSH': 130, 'CAPPED HERON': 131, 'CAPUCHINBIRD': 132, 'CARMINE BEE-EATER': 133, 'CASPIAN TERN': 134, 'CASSOWARY': 135, 'CEDAR WAXWING': 136, 'CERULEAN WARBLER': 137, 'CHARA DE COLLAR': 138, 'CHATTERING LORY': 139, 'CHESTNET BELLIED EUPHONIA': 140, 'CHESTNUT WINGED CUCKOO': 141, 'CHINESE BAMBOO PARTRIDGE': 142, 'CHINESE POND HERON': 143, 'CHIPPING SPARROW': 144, 'CHUCAO TAPACULO': 145, 'CHUKAR PARTRIDGE': 146, 'CINNAMON ATTILA': 147, 'CINNAMON FLYCATCHER': 148, 'CINNAMON TEAL': 149, 'CLARKS GREBE': 150, 'CLARKS NUTCRACKER': 151, 'COCK OF THE  ROCK': 152, 'COCKATOO': 153, 'COLLARED ARACARI': 154, 'COLLARED CRESCENTCHEST': 155, 'COMMON FIRECREST': 156, 'COMMON GRACKLE': 157, 'COMMON HOUSE MARTIN': 158, 'COMMON IORA': 159, 'COMMON LOON': 160, 'COMMON POORWILL': 161, 'COMMON STARLING': 162, 'COPPERSMITH BARBET': 163, 'COPPERY TAILED COUCAL': 164, 'CRAB PLOVER': 165, 'CRANE HAWK': 166, 'CREAM COLORED WOODPECKER': 167, 'CRESTED AUKLET': 168, 'CRESTED CARACARA': 169, 'CRESTED COUA': 170, 'CRESTED FIREBACK': 171, 'CRESTED KINGFISHER': 172, 'CRESTED NUTHATCH': 173, 'CRESTED OROPENDOLA': 174, 'CRESTED SERPENT EAGLE': 175, 'CRESTED SHRIKETIT': 176, 'CRESTED WOOD PARTRIDGE': 177, 'CRIMSON CHAT': 178, 'CRIMSON SUNBIRD': 179, 'CROW': 180, 'CUBAN TODY': 181, 'CUBAN TROGON': 182, 'CURL CRESTED ARACURI': 183, 'D-ARNAUDS BARBET': 184, 'DALMATIAN PELICAN': 185, 'DARJEELING WOODPECKER': 186, 'DARK EYED JUNCO': 187, 'DAURIAN REDSTART': 188, 'DEMOISELLE CRANE': 189, 'DOUBLE BARRED FINCH': 190, 'DOUBLE BRESTED CORMARANT': 191, 'DOUBLE EYED FIG PARROT': 192, 'DOWNY WOODPECKER': 193, 'DUNLIN': 194, 'DUSKY LORY': 195, 'DUSKY ROBIN': 196, 'EARED PITA': 197, 'EASTERN BLUEBIRD': 198, 'EASTERN BLUEBONNET': 199, 'EASTERN GOLDEN WEAVER': 200, 'EASTERN MEADOWLARK': 201, 'EASTERN ROSELLA': 202, 'EASTERN TOWEE': 203, 'EASTERN WIP POOR WILL': 204, 'EASTERN YELLOW ROBIN': 205, 'ECUADORIAN HILLSTAR': 206, 'EGYPTIAN GOOSE': 207, 'ELEGANT TROGON': 208, 'ELLIOTS  PHEASANT': 209, 'EMERALD TANAGER': 210, 'EMPEROR PENGUIN': 211, 'EMU': 212, 'ENGGANO MYNA': 213, 'EURASIAN BULLFINCH': 214, 'EURASIAN GOLDEN ORIOLE': 215, 'EURASIAN MAGPIE': 216, 'EUROPEAN GOLDFINCH': 217, 'EUROPEAN TURTLE DOVE': 218, 'EVENING GROSBEAK': 219, 'FAIRY BLUEBIRD': 220, 'FAIRY PENGUIN': 221, 'FAIRY TERN': 222, 'FAN TAILED WIDOW': 223, 'FASCIATED WREN': 224, 'FIERY MINIVET': 225, 'FIORDLAND PENGUIN': 226, 'FIRE TAILLED MYZORNIS': 227, 'FLAME BOWERBIRD': 228, 'FLAME TANAGER': 229, 'FOREST WAGTAIL': 230, 'FRIGATE': 231, 'FRILL BACK PIGEON': 232, 'GAMBELS QUAIL': 233, 'GANG GANG COCKATOO': 234, 'GILA WOODPECKER': 235, 'GILDED FLICKER': 236, 'GLOSSY IBIS': 237, 'GO AWAY BIRD': 238, 'GOLD WING WARBLER': 239, 'GOLDEN BOWER BIRD': 240, 'GOLDEN CHEEKED WARBLER': 241, 'GOLDEN CHLOROPHONIA': 242, 'GOLDEN EAGLE': 243, 'GOLDEN PARAKEET': 244, 'GOLDEN PHEASANT': 245, 'GOLDEN PIPIT': 246, 'GOULDIAN FINCH': 247, 'GRANDALA': 248, 'GRAY CATBIRD': 249, 'GRAY KINGBIRD': 250, 'GRAY PARTRIDGE': 251, 'GREAT ARGUS': 252, 'GREAT GRAY OWL': 253, 'GREAT JACAMAR': 254, 'GREAT KISKADEE': 255, 'GREAT POTOO': 256, 'GREAT TINAMOU': 257, 'GREAT XENOPS': 258, 'GREATER PEWEE': 259, 'GREATER PRAIRIE CHICKEN': 260, 'GREATOR SAGE GROUSE': 261, 'GREEN BROADBILL': 262, 'GREEN JAY': 263, 'GREEN MAGPIE': 264, 'GREEN WINGED DOVE': 265, 'GREY CUCKOOSHRIKE': 266, 'GREY HEADED CHACHALACA': 267, 'GREY HEADED FISH EAGLE': 268, 'GREY PLOVER': 269, 'GROVED BILLED ANI': 270, 'GUINEA TURACO': 271, 'GUINEAFOWL': 272, 'GURNEYS PITTA': 273, 'GYRFALCON': 274, 'HAMERKOP': 275, 'HARLEQUIN DUCK': 276, 'HARLEQUIN QUAIL': 277, 'HARPY EAGLE': 278, 'HAWAIIAN GOOSE': 279, 'HAWFINCH': 280, 'HELMET VANGA': 281, 'HEPATIC TANAGER': 282, 'HIMALAYAN BLUETAIL': 283, 'HIMALAYAN MONAL': 284, 'HOATZIN': 285, 'HOODED MERGANSER': 286, 'HOOPOES': 287, 'HORNED GUAN': 288, 'HORNED LARK': 289, 'HORNED SUNGEM': 290, 'HOUSE FINCH': 291, 'HOUSE SPARROW': 292, 'HYACINTH MACAW': 293, 'IBERIAN MAGPIE': 294, 'IBISBILL': 295, 'IMPERIAL SHAQ': 296, 'INCA TERN': 297, 'INDIAN BUSTARD': 298, 'INDIAN PITTA': 299, 'INDIAN ROLLER': 300, 'INDIAN VULTURE': 301, 'INDIGO BUNTING': 302, 'INDIGO FLYCATCHER': 303, 'INLAND DOTTEREL': 304, 'IVORY BILLED ARACARI': 305, 'IVORY GULL': 306, 'IWI': 307, 'JABIRU': 308, 'JACK SNIPE': 309, 'JACOBIN PIGEON': 310, 'JANDAYA PARAKEET': 311, 'JAPANESE ROBIN': 312, 'JAVA SPARROW': 313, 'JOCOTOCO ANTPITTA': 314, 'KAGU': 315, 'KAKAPO': 316, 'KILLDEAR': 317, 'KING EIDER': 318, 'KING VULTURE': 319, 'KIWI': 320, 'KNOB BILLED DUCK': 321, 'KOOKABURRA': 322, 'LARK BUNTING': 323, 'LAUGHING GULL': 324, 'LAZULI BUNTING': 325, 'LESSER ADJUTANT': 326, 'LILAC ROLLER': 327, 'LIMPKIN': 328, 'LITTLE AUK': 329, 'LOGGERHEAD SHRIKE': 330, 'LONG-EARED OWL': 331, 'LOONEY BIRDS': 332, 'LUCIFER HUMMINGBIRD': 333, 'MAGPIE GOOSE': 334, 'MALABAR HORNBILL': 335, 'MALACHITE KINGFISHER': 336, 'MALAGASY WHITE EYE': 337, 'MALEO': 338, 'MALLARD DUCK': 339, 'MANDRIN DUCK': 340, 'MANGROVE CUCKOO': 341, 'MARABOU STORK': 342, 'MASKED BOBWHITE': 343, 'MASKED BOOBY': 344, 'MASKED LAPWING': 345, 'MCKAYS BUNTING': 346, 'MERLIN': 347, 'MIKADO  PHEASANT': 348, 'MILITARY MACAW': 349, 'MOURNING DOVE': 350, 'MYNA': 351, 'NICOBAR PIGEON': 352, 'NOISY FRIARBIRD': 353, 'NORTHERN BEARDLESS TYRANNULET': 354, 'NORTHERN CARDINAL': 355, 'NORTHERN FLICKER': 356, 'NORTHERN FULMAR': 357, 'NORTHERN GANNET': 358, 'NORTHERN GOSHAWK': 359, 'NORTHERN JACANA': 360, 'NORTHERN MOCKINGBIRD': 361, 'NORTHERN PARULA': 362, 'NORTHERN RED BISHOP': 363, 'NORTHERN SHOVELER': 364, 'OCELLATED TURKEY': 365, 'OILBIRD': 366, 'OKINAWA RAIL': 367, 'ORANGE BREASTED TROGON': 368, 'ORANGE BRESTED BUNTING': 369, 'ORIENTAL BAY OWL': 370, 'ORNATE HAWK EAGLE': 371, 'OSPREY': 372, 'OSTRICH': 373, 'OVENBIRD': 374, 'OYSTER CATCHER': 375, 'PAINTED BUNTING': 376, 'PALILA': 377, 'PALM NUT VULTURE': 378, 'PARADISE TANAGER': 379, 'PARAKETT  AUKLET': 380, 'PARUS MAJOR': 381, 'PATAGONIAN SIERRA FINCH': 382, 'PEACOCK': 383, 'PEREGRINE FALCON': 384, 'PHAINOPEPLA': 385, 'PHILIPPINE EAGLE': 386, 'PINK ROBIN': 387, 'PLUSH CRESTED JAY': 388, 'POMARINE JAEGER': 389, 'PUFFIN': 390, 'PUNA TEAL': 391, 'PURPLE FINCH': 392, 'PURPLE GALLINULE': 393, 'PURPLE MARTIN': 394, 'PURPLE SWAMPHEN': 395, 'PYGMY KINGFISHER': 396, 'PYRRHULOXIA': 397, 'QUETZAL': 398, 'RAINBOW LORIKEET': 399, 'RAZORBILL': 400, 'RED BEARDED BEE EATER': 401, 'RED BELLIED PITTA': 402, 'RED BILLED TROPICBIRD': 403, 'RED BROWED FINCH': 404, 'RED CROSSBILL': 405, 'RED FACED CORMORANT': 406, 'RED FACED WARBLER': 407, 'RED FODY': 408, 'RED HEADED DUCK': 409, 'RED HEADED WOODPECKER': 410, 'RED KNOT': 411, 'RED LEGGED HONEYCREEPER': 412, 'RED NAPED TROGON': 413, 'RED SHOULDERED HAWK': 414, 'RED TAILED HAWK': 415, 'RED TAILED THRUSH': 416, 'RED WINGED BLACKBIRD': 417, 'RED WISKERED BULBUL': 418, 'REGENT BOWERBIRD': 419, 'RING-NECKED PHEASANT': 420, 'ROADRUNNER': 421, 'ROCK DOVE': 422, 'ROSE BREASTED COCKATOO': 423, 'ROSE BREASTED GROSBEAK': 424, 'ROSEATE SPOONBILL': 425, 'ROSY FACED LOVEBIRD': 426, 'ROUGH LEG BUZZARD': 427, 'ROYAL FLYCATCHER': 428, 'RUBY CROWNED KINGLET': 429, 'RUBY THROATED HUMMINGBIRD': 430, 'RUDDY SHELDUCK': 431, 'RUDY KINGFISHER': 432, 'RUFOUS KINGFISHER': 433, 'RUFOUS TREPE': 434, 'RUFUOS MOTMOT': 435, 'SAMATRAN THRUSH': 436, 'SAND MARTIN': 437, 'SANDHILL CRANE': 438, 'SATYR TRAGOPAN': 439, 'SAYS PHOEBE': 440, 'SCARLET CROWNED FRUIT DOVE': 441, 'SCARLET FACED LIOCICHLA': 442, 'SCARLET IBIS': 443, 'SCARLET MACAW': 444, 'SCARLET TANAGER': 445, 'SHOEBILL': 446, 'SHORT BILLED DOWITCHER': 447, 'SMITHS LONGSPUR': 448, 'SNOW GOOSE': 449, 'SNOW PARTRIDGE': 450, 'SNOWY EGRET': 451, 'SNOWY OWL': 452, 'SNOWY PLOVER': 453, 'SNOWY SHEATHBILL': 454, 'SORA': 455, 'SPANGLED COTINGA': 456, 'SPLENDID WREN': 457, 'SPOON BILED SANDPIPER': 458, 'SPOTTED CATBIRD': 459, 'SPOTTED WHISTLING DUCK': 460, 'SQUACCO HERON': 461, 'SRI LANKA BLUE MAGPIE': 462, 'STEAMER DUCK': 463, 'STORK BILLED KINGFISHER': 464, 'STRIATED CARACARA': 465, 'STRIPED OWL': 466, 'STRIPPED MANAKIN': 467, 'STRIPPED SWALLOW': 468, 'SUNBITTERN': 469, 'SUPERB STARLING': 470, 'SURF SCOTER': 471, 'SWINHOES PHEASANT': 472, 'TAILORBIRD': 473, 'TAIWAN MAGPIE': 474, 'TAKAHE': 475, 'TASMANIAN HEN': 476, 'TAWNY FROGMOUTH': 477, 'TEAL DUCK': 478, 'TIT MOUSE': 479, 'TOUCHAN': 480, 'TOWNSENDS WARBLER': 481, 'TREE SWALLOW': 482, 'TRICOLORED BLACKBIRD': 483, 'TROPICAL KINGBIRD': 484, 'TRUMPTER SWAN': 485, 'TURKEY VULTURE': 486, 'TURQUOISE MOTMOT': 487, 'UMBRELLA BIRD': 488, 'VARIED THRUSH': 489, 'VEERY': 490, 'VENEZUELIAN TROUPIAL': 491, 'VERDIN': 492, 'VERMILION FLYCATHER': 493, 'VICTORIA CROWNED PIGEON': 494, 'VIOLET BACKED STARLING': 495, 'VIOLET CUCKOO': 496, 'VIOLET GREEN SWALLOW': 497, 'VIOLET TURACO': 498, 'VISAYAN HORNBILL': 499, 'VULTURINE GUINEAFOWL': 500, 'WALL CREAPER': 501, 'WATTLED CURASSOW': 502, 'WATTLED LAPWING': 503, 'WHIMBREL': 504, 'WHITE BREASTED WATERHEN': 505, 'WHITE BROWED CRAKE': 506, 'WHITE CHEEKED TURACO': 507, 'WHITE CRESTED HORNBILL': 508, 'WHITE EARED HUMMINGBIRD': 509, 'WHITE NECKED RAVEN': 510, 'WHITE TAILED TROPIC': 511, 'WHITE THROATED BEE EATER': 512, 'WILD TURKEY': 513, 'WILLOW PTARMIGAN': 514, 'WILSONS BIRD OF PARADISE': 515, 'WOOD DUCK': 516, 'WOOD THRUSH': 517, 'WOODLAND KINGFISHER': 518, 'WRENTIT': 519, 'YELLOW BELLIED FLOWERPECKER': 520, 'YELLOW BREASTED CHAT': 521, 'YELLOW CACIQUE': 522, 'YELLOW HEADED BLACKBIRD': 523, 'ZEBRA DOVE': 524}\n"
     ]
    }
   ],
   "source": [
    "print(dict_class_labels)"
   ]
  },
  {
   "cell_type": "code",
   "execution_count": 7,
   "metadata": {},
   "outputs": [
    {
     "ename": "",
     "evalue": "",
     "output_type": "error",
     "traceback": [
      "\u001b[1;31mThe Kernel crashed while executing code in the the current cell or a previous cell. Please review the code in the cell(s) to identify a possible cause of the failure. Click <a href='https://aka.ms/vscodeJupyterKernelCrash'>here</a> for more info. View Jupyter <a href='command:jupyter.viewOutput'>log</a> for further details."
     ]
    }
   ],
   "source": [
    "data_imagen = []\n",
    "label_imagen = []\n",
    "var = 0\n",
    "for images, labels  in dataset_train:\n",
    "    data_imagen.append(images.numpy())\n",
    "    label_imagen.append(labels[0].numpy())"
   ]
  },
  {
   "cell_type": "markdown",
   "metadata": {},
   "source": [
    "Preper data for model"
   ]
  },
  {
   "cell_type": "code",
   "execution_count": 7,
   "metadata": {},
   "outputs": [],
   "source": [
    "def define_model():\n",
    "    \"\"\"Convolutional NN model creation\n",
    "    \"\"\"\n",
    "    model = Sequential()\n",
    "    model.add(Conv2D(32, (3, 3), activation='relu', kernel_initializer='he_uniform', input_shape=(224, 224, 3)))\n",
    "    model.add(MaxPooling2D((2, 2)))\n",
    "    model.add(Flatten())\n",
    "    model.add(Dense(100, activation='relu', kernel_initializer='he_uniform'))\n",
    "    model.add(Dense(10, activation='softmax'))\n",
    "\t\n",
    "    # compile model\n",
    "    opt = SGD(lr=0.01, momentum=0.9)\n",
    "    model.compile(optimizer=opt, loss='categorical_crossentropy', metrics=['accuracy'])\n",
    "    \n",
    "    return model\n",
    "\n",
    "def evaluate_model(dataX, dataY, n_folds=5):\n",
    "    \"\"\"Evaluate a model using k-fold cross-validation\n",
    "    \"\"\"\n",
    "    scores, histories = list(), list()\n",
    "    # prepare cross validation\n",
    "    kfold = KFold(n_folds, shuffle=True, random_state=1)\n",
    "    \n",
    "    # enumerate splits\n",
    "    for train_ix, test_ix in kfold.split(dataX):\n",
    "        # define model\n",
    "        model = define_model()\n",
    "        # select rows for train and test\n",
    "        trainX, trainY, testX, testY = dataX[train_ix], dataY[train_ix], dataX[test_ix], dataY[test_ix]\n",
    "        # fit model\n",
    "        history = model.fit(trainX, trainY, epochs=10, batch_size=32, validation_data=(testX, testY), verbose=0)\n",
    "        # evaluate model\n",
    "        _, acc = model.evaluate(testX, testY, verbose=0)\n",
    "        print('> %.3f' % (acc * 100.0))\n",
    "\n",
    "        # stores scores\n",
    "        scores.append(acc)\n",
    "        histories.append(history)\n",
    "        \n",
    "    return scores, histories"
   ]
  },
  {
   "cell_type": "code",
   "execution_count": 31,
   "metadata": {},
   "outputs": [
    {
     "name": "stderr",
     "output_type": "stream",
     "text": [
      "2023-11-08 15:25:19.647782: W tensorflow/tsl/platform/profile_utils/cpu_utils.cc:128] Failed to get CPU frequency: 0 Hz\n"
     ]
    },
    {
     "ename": "ValueError",
     "evalue": "in user code:\n\n    File \"/usr/local/Caskroom/miniforge/base/envs/compu-vision/lib/python3.9/site-packages/keras/engine/training.py\", line 1249, in train_function  *\n        return step_function(self, iterator)\n    File \"/usr/local/Caskroom/miniforge/base/envs/compu-vision/lib/python3.9/site-packages/keras/engine/training.py\", line 1233, in step_function  **\n        outputs = model.distribute_strategy.run(run_step, args=(data,))\n    File \"/usr/local/Caskroom/miniforge/base/envs/compu-vision/lib/python3.9/site-packages/keras/engine/training.py\", line 1222, in run_step  **\n        outputs = model.train_step(data)\n    File \"/usr/local/Caskroom/miniforge/base/envs/compu-vision/lib/python3.9/site-packages/keras/engine/training.py\", line 1024, in train_step\n        loss = self.compute_loss(x, y, y_pred, sample_weight)\n    File \"/usr/local/Caskroom/miniforge/base/envs/compu-vision/lib/python3.9/site-packages/keras/engine/training.py\", line 1082, in compute_loss\n        return self.compiled_loss(\n    File \"/usr/local/Caskroom/miniforge/base/envs/compu-vision/lib/python3.9/site-packages/keras/engine/compile_utils.py\", line 265, in __call__\n        loss_value = loss_obj(y_t, y_p, sample_weight=sw)\n    File \"/usr/local/Caskroom/miniforge/base/envs/compu-vision/lib/python3.9/site-packages/keras/losses.py\", line 152, in __call__\n        losses = call_fn(y_true, y_pred)\n    File \"/usr/local/Caskroom/miniforge/base/envs/compu-vision/lib/python3.9/site-packages/keras/losses.py\", line 284, in call  **\n        return ag_fn(y_true, y_pred, **self._fn_kwargs)\n    File \"/usr/local/Caskroom/miniforge/base/envs/compu-vision/lib/python3.9/site-packages/keras/losses.py\", line 2004, in categorical_crossentropy\n        return backend.categorical_crossentropy(\n    File \"/usr/local/Caskroom/miniforge/base/envs/compu-vision/lib/python3.9/site-packages/keras/backend.py\", line 5532, in categorical_crossentropy\n        target.shape.assert_is_compatible_with(output.shape)\n\n    ValueError: Shapes (None, 1) and (None, 10) are incompatible\n",
     "output_type": "error",
     "traceback": [
      "\u001b[0;31m---------------------------------------------------------------------------\u001b[0m",
      "\u001b[0;31mValueError\u001b[0m                                Traceback (most recent call last)",
      "\u001b[1;32m/Users/carlosalvarado/Desktop/ComputerVision/proyecto-final/proyecto_final.ipynb Cell 12\u001b[0m line \u001b[0;36m7\n\u001b[1;32m      <a href='vscode-notebook-cell:/Users/carlosalvarado/Desktop/ComputerVision/proyecto-final/proyecto_final.ipynb#W6sZmlsZQ%3D%3D?line=4'>5</a>\u001b[0m     \u001b[39mreturn\u001b[39;00m scores, histories \n\u001b[1;32m      <a href='vscode-notebook-cell:/Users/carlosalvarado/Desktop/ComputerVision/proyecto-final/proyecto_final.ipynb#W6sZmlsZQ%3D%3D?line=5'>6</a>\u001b[0m \u001b[39m# entry point, run the test harness\u001b[39;00m\n\u001b[0;32m----> <a href='vscode-notebook-cell:/Users/carlosalvarado/Desktop/ComputerVision/proyecto-final/proyecto_final.ipynb#W6sZmlsZQ%3D%3D?line=6'>7</a>\u001b[0m scores, histories \u001b[39m=\u001b[39m run_test_harness()\n",
      "\u001b[1;32m/Users/carlosalvarado/Desktop/ComputerVision/proyecto-final/proyecto_final.ipynb Cell 12\u001b[0m line \u001b[0;36m3\n\u001b[1;32m      <a href='vscode-notebook-cell:/Users/carlosalvarado/Desktop/ComputerVision/proyecto-final/proyecto_final.ipynb#W6sZmlsZQ%3D%3D?line=0'>1</a>\u001b[0m \u001b[39mdef\u001b[39;00m \u001b[39mrun_test_harness\u001b[39m():\n\u001b[1;32m      <a href='vscode-notebook-cell:/Users/carlosalvarado/Desktop/ComputerVision/proyecto-final/proyecto_final.ipynb#W6sZmlsZQ%3D%3D?line=1'>2</a>\u001b[0m     \u001b[39m# evaluate model\u001b[39;00m\n\u001b[0;32m----> <a href='vscode-notebook-cell:/Users/carlosalvarado/Desktop/ComputerVision/proyecto-final/proyecto_final.ipynb#W6sZmlsZQ%3D%3D?line=2'>3</a>\u001b[0m     scores, histories \u001b[39m=\u001b[39m evaluate_model(x_train, y_train)\n\u001b[1;32m      <a href='vscode-notebook-cell:/Users/carlosalvarado/Desktop/ComputerVision/proyecto-final/proyecto_final.ipynb#W6sZmlsZQ%3D%3D?line=4'>5</a>\u001b[0m     \u001b[39mreturn\u001b[39;00m scores, histories\n",
      "\u001b[1;32m/Users/carlosalvarado/Desktop/ComputerVision/proyecto-final/proyecto_final.ipynb Cell 12\u001b[0m line \u001b[0;36m3\n\u001b[1;32m     <a href='vscode-notebook-cell:/Users/carlosalvarado/Desktop/ComputerVision/proyecto-final/proyecto_final.ipynb#W6sZmlsZQ%3D%3D?line=28'>29</a>\u001b[0m trainX, trainY, testX, testY \u001b[39m=\u001b[39m dataX[train_ix], dataY[train_ix], dataX[test_ix], dataY[test_ix]\n\u001b[1;32m     <a href='vscode-notebook-cell:/Users/carlosalvarado/Desktop/ComputerVision/proyecto-final/proyecto_final.ipynb#W6sZmlsZQ%3D%3D?line=29'>30</a>\u001b[0m \u001b[39m# fit model\u001b[39;00m\n\u001b[0;32m---> <a href='vscode-notebook-cell:/Users/carlosalvarado/Desktop/ComputerVision/proyecto-final/proyecto_final.ipynb#W6sZmlsZQ%3D%3D?line=30'>31</a>\u001b[0m history \u001b[39m=\u001b[39m model\u001b[39m.\u001b[39;49mfit(trainX, trainY, epochs\u001b[39m=\u001b[39;49m\u001b[39m10\u001b[39;49m, batch_size\u001b[39m=\u001b[39;49m\u001b[39m32\u001b[39;49m, validation_data\u001b[39m=\u001b[39;49m(testX, testY), verbose\u001b[39m=\u001b[39;49m\u001b[39m0\u001b[39;49m)\n\u001b[1;32m     <a href='vscode-notebook-cell:/Users/carlosalvarado/Desktop/ComputerVision/proyecto-final/proyecto_final.ipynb#W6sZmlsZQ%3D%3D?line=31'>32</a>\u001b[0m \u001b[39m# evaluate model\u001b[39;00m\n\u001b[1;32m     <a href='vscode-notebook-cell:/Users/carlosalvarado/Desktop/ComputerVision/proyecto-final/proyecto_final.ipynb#W6sZmlsZQ%3D%3D?line=32'>33</a>\u001b[0m _, acc \u001b[39m=\u001b[39m model\u001b[39m.\u001b[39mevaluate(testX, testY, verbose\u001b[39m=\u001b[39m\u001b[39m0\u001b[39m)\n",
      "File \u001b[0;32m/usr/local/Caskroom/miniforge/base/envs/compu-vision/lib/python3.9/site-packages/keras/utils/traceback_utils.py:70\u001b[0m, in \u001b[0;36mfilter_traceback.<locals>.error_handler\u001b[0;34m(*args, **kwargs)\u001b[0m\n\u001b[1;32m     67\u001b[0m     filtered_tb \u001b[39m=\u001b[39m _process_traceback_frames(e\u001b[39m.\u001b[39m__traceback__)\n\u001b[1;32m     68\u001b[0m     \u001b[39m# To get the full stack trace, call:\u001b[39;00m\n\u001b[1;32m     69\u001b[0m     \u001b[39m# `tf.debugging.disable_traceback_filtering()`\u001b[39;00m\n\u001b[0;32m---> 70\u001b[0m     \u001b[39mraise\u001b[39;00m e\u001b[39m.\u001b[39mwith_traceback(filtered_tb) \u001b[39mfrom\u001b[39;00m \u001b[39mNone\u001b[39;00m\n\u001b[1;32m     71\u001b[0m \u001b[39mfinally\u001b[39;00m:\n\u001b[1;32m     72\u001b[0m     \u001b[39mdel\u001b[39;00m filtered_tb\n",
      "File \u001b[0;32m/var/folders/nc/msnr18q57_bfryvsdz5vb_w00000gn/T/__autograph_generated_fileht7t3z46.py:15\u001b[0m, in \u001b[0;36mouter_factory.<locals>.inner_factory.<locals>.tf__train_function\u001b[0;34m(iterator)\u001b[0m\n\u001b[1;32m     13\u001b[0m \u001b[39mtry\u001b[39;00m:\n\u001b[1;32m     14\u001b[0m     do_return \u001b[39m=\u001b[39m \u001b[39mTrue\u001b[39;00m\n\u001b[0;32m---> 15\u001b[0m     retval_ \u001b[39m=\u001b[39m ag__\u001b[39m.\u001b[39mconverted_call(ag__\u001b[39m.\u001b[39mld(step_function), (ag__\u001b[39m.\u001b[39mld(\u001b[39mself\u001b[39m), ag__\u001b[39m.\u001b[39mld(iterator)), \u001b[39mNone\u001b[39;00m, fscope)\n\u001b[1;32m     16\u001b[0m \u001b[39mexcept\u001b[39;00m:\n\u001b[1;32m     17\u001b[0m     do_return \u001b[39m=\u001b[39m \u001b[39mFalse\u001b[39;00m\n",
      "\u001b[0;31mValueError\u001b[0m: in user code:\n\n    File \"/usr/local/Caskroom/miniforge/base/envs/compu-vision/lib/python3.9/site-packages/keras/engine/training.py\", line 1249, in train_function  *\n        return step_function(self, iterator)\n    File \"/usr/local/Caskroom/miniforge/base/envs/compu-vision/lib/python3.9/site-packages/keras/engine/training.py\", line 1233, in step_function  **\n        outputs = model.distribute_strategy.run(run_step, args=(data,))\n    File \"/usr/local/Caskroom/miniforge/base/envs/compu-vision/lib/python3.9/site-packages/keras/engine/training.py\", line 1222, in run_step  **\n        outputs = model.train_step(data)\n    File \"/usr/local/Caskroom/miniforge/base/envs/compu-vision/lib/python3.9/site-packages/keras/engine/training.py\", line 1024, in train_step\n        loss = self.compute_loss(x, y, y_pred, sample_weight)\n    File \"/usr/local/Caskroom/miniforge/base/envs/compu-vision/lib/python3.9/site-packages/keras/engine/training.py\", line 1082, in compute_loss\n        return self.compiled_loss(\n    File \"/usr/local/Caskroom/miniforge/base/envs/compu-vision/lib/python3.9/site-packages/keras/engine/compile_utils.py\", line 265, in __call__\n        loss_value = loss_obj(y_t, y_p, sample_weight=sw)\n    File \"/usr/local/Caskroom/miniforge/base/envs/compu-vision/lib/python3.9/site-packages/keras/losses.py\", line 152, in __call__\n        losses = call_fn(y_true, y_pred)\n    File \"/usr/local/Caskroom/miniforge/base/envs/compu-vision/lib/python3.9/site-packages/keras/losses.py\", line 284, in call  **\n        return ag_fn(y_true, y_pred, **self._fn_kwargs)\n    File \"/usr/local/Caskroom/miniforge/base/envs/compu-vision/lib/python3.9/site-packages/keras/losses.py\", line 2004, in categorical_crossentropy\n        return backend.categorical_crossentropy(\n    File \"/usr/local/Caskroom/miniforge/base/envs/compu-vision/lib/python3.9/site-packages/keras/backend.py\", line 5532, in categorical_crossentropy\n        target.shape.assert_is_compatible_with(output.shape)\n\n    ValueError: Shapes (None, 1) and (None, 10) are incompatible\n"
     ]
    }
   ],
   "source": [
    "def run_test_harness():\n",
    "    # evaluate model\n",
    "    scores, histories = evaluate_model(data_imagen, label_imagen)\n",
    "    \n",
    "    return scores, histories \n",
    "# entry point, run the test harness\n",
    "scores, histories = run_test_harness()"
   ]
  }
 ],
 "metadata": {
  "kernelspec": {
   "display_name": "compu-vision",
   "language": "python",
   "name": "python3"
  },
  "language_info": {
   "codemirror_mode": {
    "name": "ipython",
    "version": 3
   },
   "file_extension": ".py",
   "mimetype": "text/x-python",
   "name": "python",
   "nbconvert_exporter": "python",
   "pygments_lexer": "ipython3",
   "version": "3.9.16"
  }
 },
 "nbformat": 4,
 "nbformat_minor": 2
}
