{
 "cells": [
  {
   "cell_type": "markdown",
   "metadata": {},
   "source": [
    "Carlos Manuel Alvarado Alvarado 20200118\n",
    "- Python 3.9.16 de ambiente. "
   ]
  },
  {
   "cell_type": "code",
   "execution_count": 79,
   "metadata": {},
   "outputs": [],
   "source": [
    "import numpy as np\n",
    "import cv2 as cv\n",
    "import matplotlib.pyplot as plt\n",
    "import cvlib"
   ]
  },
  {
   "cell_type": "code",
   "execution_count": 80,
   "metadata": {},
   "outputs": [
    {
     "name": "stdout",
     "output_type": "stream",
     "text": [
      "Rows 8\n",
      "Columns 8\n",
      "Pixels 64\n"
     ]
    }
   ],
   "source": [
    "img = cv.imread('subimage.pgm', cv.IMREAD_GRAYSCALE)\n",
    "#img = cv.imread(os.path.join(PATH,'Unequalized_Hawkes_Bay_NZ.jpg'), cv.IMREAD_GRAYSCALE)\n",
    "\n",
    "r,c = img.shape[0:2]\n",
    "print('Rows {0}\\nColumns {1}\\nPixels {2:,}'.format(r,c,r*c))"
   ]
  },
  {
   "cell_type": "code",
   "execution_count": 81,
   "metadata": {},
   "outputs": [
    {
     "data": {
      "image/png": "[encoded data removed]",
      "text/plain": [
       "<Figure size 800x800 with 1 Axes>"
      ]
     },
     "metadata": {},
     "output_type": "display_data"
    }
   ],
   "source": [
    "cvlib.imgview(img)"
   ]
  },
  {
   "cell_type": "code",
   "execution_count": 82,
   "metadata": {},
   "outputs": [
    {
     "data": {
      "image/png": "[encoded data removed]",
      "text/plain": [
       "<Figure size 1000x1000 with 2 Axes>"
      ]
     },
     "metadata": {},
     "output_type": "display_data"
    }
   ],
   "source": [
    "def imgpad(image, r):\n",
    "    \"\"\"_summary_\n",
    "        La función empieza obteniendo el valor de columnas y filas de la imagen original. \n",
    "        Eso nos sirve, porque el padding es agregar un \"marco\" a la imagen, por lo que sabemos que\n",
    "        r * 2 nos generara los espacios necesarios para el nuevo lenght de cada fila de la imagen. \n",
    "                                                                                    filas       columnas\n",
    "        Por lo tanto, se crea un array con np.zero de numpy y sus dimensiones son: (row+(r*2), column+(r*2)\n",
    "        Por ejemplo, si la imagen es de 8 * 8, tendremos una de 10 * 10, para tener 1 pixel de marco con el padding. \n",
    "        \n",
    "        Para poner la imagen dentro de la matriz, le caemos encima a el espacio que equivale a donde estaría la imagen\n",
    "        original. Eso nos trae justamente el espacio en donde corresponde nuestra imagen inicial. \n",
    "    Args:\n",
    "        image (uint8): array de la imagen\n",
    "        r (int): cantidad de pixeles que queremos nuestro padding. \n",
    "    \"\"\"\n",
    "    row,column = image.shape[0:2]\n",
    "    arr = np.zeros((row+(r*2), column+(r*2)))\n",
    "    arr[r:r+row, r:r+column] = image\n",
    "    return arr\n",
    "\n",
    "img2 = imgpad(img, 1)\n",
    "r,c = img.shape[0:2]\n",
    "r2,c2 = img2.shape[0:2]\n",
    "cvlib.imgcmp(img, img2, title=['Orignal row: {0}, column: {1}'.format(r,c),'Padding row: {0}, column: {1}'.format(r2,c2)])"
   ]
  },
  {
   "cell_type": "markdown",
   "metadata": {},
   "source": [
    "Fist_pass"
   ]
  },
  {
   "cell_type": "code",
   "execution_count": null,
   "metadata": {},
   "outputs": [],
   "source": []
  },
  {
   "cell_type": "code",
   "execution_count": 84,
   "metadata": {},
   "outputs": [
    {
     "name": "stdout",
     "output_type": "stream",
     "text": [
      "[[0. 0. 0. 0. 0. 0. 0. 0. 0. 0.]\n",
      " [0. 1. 1. 0. 2. 2. 2. 0. 3. 0.]\n",
      " [0. 1. 1. 0. 2. 0. 2. 0. 3. 0.]\n",
      " [0. 1. 1. 1. 1. 0. 0. 0. 3. 0.]\n",
      " [0. 0. 0. 0. 0. 0. 0. 0. 3. 0.]\n",
      " [0. 4. 4. 4. 4. 0. 5. 0. 3. 0.]\n",
      " [0. 0. 0. 0. 4. 0. 5. 0. 3. 0.]\n",
      " [0. 6. 6. 6. 4. 0. 0. 0. 3. 0.]\n",
      " [0. 6. 6. 6. 4. 0. 7. 7. 3. 0.]\n",
      " [0. 0. 0. 0. 0. 0. 0. 0. 0. 0.]]\n",
      "{1.0: [2.0], 4.0: [6.0], 3.0: [7.0]}\n"
     ]
    }
   ],
   "source": [
    "def first_pass(img):\n",
    "    current_pixel = 0\n",
    "    conflictos = {}\n",
    "    copy_image = img.copy()\n",
    "    copy_image[copy_image>0] = 1\n",
    "    copy_image = imgpad(copy_image, 1)\n",
    "    row, column = copy_image.shape[0:2]\n",
    "    for r in range(row):\n",
    "        for c in range(column):\n",
    "                if (copy_image[r,c] != 0):\n",
    "                    vecinos = [copy_image[r,c-1], copy_image[r-1,c]]\n",
    "                    #print(vecinos)\n",
    "                    if (vecinos[0] == 0 and vecinos[1] == 0):\n",
    "                        current_pixel += 1\n",
    "                        copy_image[r,c] = current_pixel\n",
    "                        #print(f\"NO hay izquierda ni arriba, en pos: {r,c}\")\n",
    "                    else: \n",
    "                        if (vecinos[0] != 0 and vecinos[1] != 0):\n",
    "                            if (vecinos[0] == vecinos[1]):\n",
    "                                copy_image[r,c] = vecinos[0]\n",
    "                            else:\n",
    "                                copy_image[r,c] = min(vecinos)\n",
    "                                if min(vecinos) in conflictos:\n",
    "                                    if max(vecinos) in conflictos[min(vecinos)]:\n",
    "                                        pass\n",
    "                                    else:\n",
    "                                        conflictos[min(vecinos)].append(max(vecinos))\n",
    "                                else:\n",
    "                                    conflictos[min(vecinos)] = [max(vecinos)]\n",
    "                                # crear relacion\n",
    "                        elif(vecinos[0] == 0):\n",
    "                             copy_image[r,c] = vecinos[1]\n",
    "                        else:\n",
    "                             copy_image[r,c] = vecinos[0]\n",
    "    return copy_image, conflictos\n",
    "\n",
    "val, conflictos = first_pass(img)\n",
    "print(val)\n",
    "print(conflictos)\n",
    "#print(imgpad(img, 1))"
   ]
  }
 ],
 "metadata": {
  "kernelspec": {
   "display_name": "compu-vision",
   "language": "python",
   "name": "python3"
  },
  "language_info": {
   "codemirror_mode": {
    "name": "ipython",
    "version": 3
   },
   "file_extension": ".py",
   "mimetype": "text/x-python",
   "name": "python",
   "nbconvert_exporter": "python",
   "pygments_lexer": "ipython3",
   "version": "3.9.16"
  },
  "orig_nbformat": 4
 },
 "nbformat": 4,
 "nbformat_minor": 2
}
