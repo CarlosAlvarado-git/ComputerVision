{
 "cells": [
  {
   "cell_type": "markdown",
   "metadata": {},
   "source": [
    "Carlos Manuel Alvarado Alvarado 20200118\n",
    "- Python 3.9.16 de ambiente. "
   ]
  },
  {
   "cell_type": "code",
   "execution_count": 9,
   "metadata": {},
   "outputs": [],
   "source": [
    "import numpy as np\n",
    "import cv2 as cv\n",
    "import matplotlib.pyplot as plt\n",
    "import cvlib"
   ]
  },
  {
   "cell_type": "code",
   "execution_count": 27,
   "metadata": {},
   "outputs": [
    {
     "name": "stdout",
     "output_type": "stream",
     "text": [
      "Rows 8\n",
      "Columns 8\n",
      "Pixels 64\n"
     ]
    }
   ],
   "source": [
    "img = cv.imread('subimage.pgm', cv.IMREAD_GRAYSCALE)\n",
    "#img = cv.imread(os.path.join(PATH,'Unequalized_Hawkes_Bay_NZ.jpg'), cv.IMREAD_GRAYSCALE)\n",
    "\n",
    "r,c = img.shape[0:2]\n",
    "print('Rows {0}\\nColumns {1}\\nPixels {2:,}'.format(r,c,r*c))"
   ]
  },
  {
   "cell_type": "code",
   "execution_count": 28,
   "metadata": {},
   "outputs": [
    {
     "data": {
      "image/png": "[encoded data removed]",
      "text/plain": [
       "<Figure size 800x800 with 1 Axes>"
      ]
     },
     "metadata": {},
     "output_type": "display_data"
    }
   ],
   "source": [
    "cvlib.imgview(img)"
   ]
  },
  {
   "cell_type": "code",
   "execution_count": 18,
   "metadata": {},
   "outputs": [
    {
     "data": {
      "image/png": "[encoded data removed]",
      "text/plain": [
       "<Figure size 1000x1000 with 2 Axes>"
      ]
     },
     "metadata": {},
     "output_type": "display_data"
    }
   ],
   "source": [
    "def imgpad(image, r):\n",
    "    \"\"\"_summary_\n",
    "        La función empieza obteniendo el valor de columnas y filas de la imagen original. \n",
    "        Eso nos sirve, porque el padding es agregar un \"marco\" a la imagen, por lo que sabemos que\n",
    "        r * 2 nos generara los espacios necesarios para el nuevo lenght de cada fila de la imagen. \n",
    "                                                                                    filas       columnas\n",
    "        Por lo tanto, se crea un array con np.zero de numpy y sus dimensiones son: (row+(r*2), column+(r*2)\n",
    "        Por ejemplo, si la imagen es de 8 * 8, tendremos una de 10 * 10, para tener 1 pixel de marco con el padding. \n",
    "        \n",
    "        Para poner la imagen dentro de la matriz, le caemos encima a el espacio que equivale a donde estaría la imagen\n",
    "        original. Eso nos trae justamente el espacio en donde corresponde nuestra imagen inicial. \n",
    "    Args:\n",
    "        image (uint8): array de la imagen\n",
    "        r (int): cantidad de pixeles que queremos nuestro padding. \n",
    "    \"\"\"\n",
    "    row,column = image.shape[0:2]\n",
    "    arr = np.zeros((row+(r*2), column+(r*2)))\n",
    "    arr[r:r+row, r:r+column] = image\n",
    "    return arr\n",
    "\n",
    "img2 = imgpad(img, 1)\n",
    "r,c = img.shape[0:2]\n",
    "r2,c2 = img2.shape[0:2]\n",
    "cvlib.imgcmp(img, img2, title=['Orignal row: {0}, column: {1}'.format(r,c),'Padding row: {0}, column: {1}'.format(r2,c2)])"
   ]
  },
  {
   "cell_type": "markdown",
   "metadata": {},
   "source": [
    "Fist_pass"
   ]
  },
  {
   "cell_type": "code",
   "execution_count": 21,
   "metadata": {},
   "outputs": [],
   "source": [
    "def first_pass(img):\n",
    "    \n",
    "    return img"
   ]
  },
  {
   "cell_type": "markdown",
   "metadata": {},
   "source": [
    "UNION-FIND"
   ]
  },
  {
   "cell_type": "code",
   "execution_count": 5,
   "metadata": {},
   "outputs": [],
   "source": [
    "def find(data, i):\n",
    "    if i != data[i]:\n",
    "        data[i] = find(data, data[i])\n",
    "    return data[i]\n",
    "def union(data, i, j):\n",
    "    pi, pj = find(data, i), find(data, j)\n",
    "    if pi != pj:\n",
    "        data[pi] = pj"
   ]
  },
  {
   "cell_type": "code",
   "execution_count": 6,
   "metadata": {},
   "outputs": [
    {
     "name": "stdout",
     "output_type": "stream",
     "text": [
      "[0, 1, 2, 3, 4, 5, 6, 7, 8, 9]\n",
      "[(0, 1), (1, 2), (0, 9), (5, 6), (6, 4), (5, 9)]\n",
      "[1, 1, 2, 3, 4, 5, 6, 7, 8, 9]\n",
      "[1, 2, 2, 3, 4, 5, 6, 7, 8, 9]\n",
      "[2, 2, 9, 3, 4, 5, 6, 7, 8, 9]\n",
      "[2, 2, 9, 3, 4, 6, 6, 7, 8, 9]\n",
      "[2, 2, 9, 3, 4, 6, 4, 7, 8, 9]\n",
      "[2, 2, 9, 3, 9, 4, 4, 7, 8, 9]\n",
      "item 0 -> component 9\n",
      "[9, 2, 9, 3, 9, 4, 4, 7, 8, 9]\n",
      "item 1 -> component 9\n",
      "[9, 9, 9, 3, 9, 4, 4, 7, 8, 9]\n",
      "item 2 -> component 9\n",
      "[9, 9, 9, 3, 9, 4, 4, 7, 8, 9]\n",
      "item 3 -> component 3\n",
      "[9, 9, 9, 3, 9, 4, 4, 7, 8, 9]\n",
      "item 4 -> component 9\n",
      "[9, 9, 9, 3, 9, 4, 4, 7, 8, 9]\n",
      "item 5 -> component 9\n",
      "[9, 9, 9, 3, 9, 9, 4, 7, 8, 9]\n",
      "item 6 -> component 9\n",
      "[9, 9, 9, 3, 9, 9, 9, 7, 8, 9]\n",
      "item 7 -> component 7\n",
      "[9, 9, 9, 3, 9, 9, 9, 7, 8, 9]\n",
      "item 8 -> component 8\n",
      "[9, 9, 9, 3, 9, 9, 9, 7, 8, 9]\n",
      "item 9 -> component 9\n",
      "[9, 9, 9, 3, 9, 9, 9, 7, 8, 9]\n"
     ]
    }
   ],
   "source": [
    "n = 10\n",
    "data = [i for i in range(n)]\n",
    "print(data)\n",
    "connections = [(0, 1), (1, 2), (0, 9), (5, 6), (6, 4), (5, 9)]\n",
    "print(connections)\n",
    "# union\n",
    "for i, j in connections:\n",
    "    union(data, i, j)\n",
    "    print(data)\n",
    "# find\n",
    "for i in range(n):\n",
    "    print('item', i, '-> component', find(data, i))\n",
    "    print(data)"
   ]
  }
 ],
 "metadata": {
  "kernelspec": {
   "display_name": "compu-vision",
   "language": "python",
   "name": "python3"
  },
  "language_info": {
   "codemirror_mode": {
    "name": "ipython",
    "version": 3
   },
   "file_extension": ".py",
   "mimetype": "text/x-python",
   "name": "python",
   "nbconvert_exporter": "python",
   "pygments_lexer": "ipython3",
   "version": "3.9.16"
  },
  "orig_nbformat": 4
 },
 "nbformat": 4,
 "nbformat_minor": 2
}
