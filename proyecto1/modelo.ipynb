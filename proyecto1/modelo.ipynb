{
 "cells": [
  {
   "cell_type": "code",
   "execution_count": null,
   "metadata": {},
   "outputs": [],
   "source": [
    "import numpy as np\n",
    "import cv2 as cv\n",
    "import matplotlib.pyplot as plt\n",
    "import cvlib\n",
    "import statistics as st\n",
    "import argparse\n",
    "from MLDatasetBuilder import *\n",
    "import os\n",
    "from sklearn.pipeline import Pipeline\n",
    "from sklearn.metrics import accuracy_score, ConfusionMatrixDisplay \n",
    "from sklearn.ensemble import AdaBoostRegressor\n",
    "from sklearn.ensemble import GradientBoostingClassifier\n",
    "from sklearn.linear_model import LogisticRegression\n",
    "from sklearn import linear_model\n",
    "import joblib\n",
    "\n",
    "from sklearn.model_selection import GridSearchCV"
   ]
  },
  {
   "cell_type": "code",
   "execution_count": null,
   "metadata": {},
   "outputs": [],
   "source": [
    "def view(img, title=None):\n",
    "    k = 5\n",
    "    fig,ax1 = plt.subplots(figsize=(k,k))\n",
    "    if len(img.shape)==2:\n",
    "        ax1.imshow(img, vmin=0, vmax=255, cmap='gray')\n",
    "    else:\n",
    "        ax1.imshow(img)\n",
    "    if title:\n",
    "        plt.title(title)   \n",
    "    plt.axis('off')\n",
    "    plt.show()"
   ]
  },
  {
   "cell_type": "code",
   "execution_count": null,
   "metadata": {},
   "outputs": [],
   "source": [
    "def imgpad(image, r):\n",
    "    \"\"\"_summary_\n",
    "        La función empieza obteniendo el valor de columnas y filas de la imagen original. \n",
    "        Eso nos sirve, porque el padding es agregar un \"marco\" a la imagen, por lo que sabemos que\n",
    "        r * 2 nos generara los espacios necesarios para el nuevo lenght de cada fila de la imagen. \n",
    "                                                                                    filas       columnas\n",
    "        Por lo tanto, se crea un array con np.zero de numpy y sus dimensiones son: (row+(r*2), column+(r*2)\n",
    "        Por ejemplo, si la imagen es de 8 * 8, tendremos una de 10 * 10, para tener 1 pixel de marco con el padding. \n",
    "        \n",
    "        Para poner la imagen dentro de la matriz, le caemos encima a el espacio que equivale a donde estaría la imagen\n",
    "        original. Eso nos trae justamente el espacio en donde corresponde nuestra imagen inicial. \n",
    "    Args:\n",
    "        image (uint8): array de la imagen\n",
    "        r (int): cantidad de pixeles que queremos nuestro padding. \n",
    "    \"\"\"\n",
    "    row,column = image.shape[0:2]\n",
    "    arr = np.zeros((row+(r*2), column+(r*2)))\n",
    "    #arr = np.full((row+(r*2), column+(r*2)), 255)\n",
    "    #print(arr)\n",
    "    arr[r:r+row, r:r+column] = image\n",
    "    return arr"
   ]
  },
  {
   "cell_type": "code",
   "execution_count": 28,
   "metadata": {},
   "outputs": [],
   "source": [
    "folder = './fotos_placas/CNN letter Dataset/'\n",
    "sub_folders = [name for name in os.listdir(folder) if os.path.isdir(os.path.join(folder, name))]\n",
    "fotos = []\n",
    "labels = []\n",
    "\n",
    "for i in sub_folders:\n",
    "    dir_path = folder + \"/\" + i\n",
    "\n",
    "    for file_path in os.listdir(dir_path):\n",
    "        if os.path.isfile(os.path.join(dir_path, file_path)):\n",
    "            image_path = dir_path + \"/\" + file_path\n",
    "            image = cv.imread(image_path,cv.IMREAD_GRAYSCALE)\n",
    "            image = cv.adaptiveThreshold(image, 255,cv.ADAPTIVE_THRESH_GAUSSIAN_C, cv.THRESH_BINARY_INV,51,5)\n",
    "            image = imgpad(image, 3)\n",
    "            #print(image.shape)\n",
    "            image_2d = image.flatten()\n",
    "            #print(image_2d.shape)\n",
    "            fotos.append(image_2d)\n",
    "            labels.append(i)\n",
    "        #     view(image)\n",
    "        # break"
   ]
  },
  {
   "cell_type": "code",
   "execution_count": null,
   "metadata": {},
   "outputs": [],
   "source": [
    "print(len(fotos))"
   ]
  },
  {
   "cell_type": "code",
   "execution_count": null,
   "metadata": {},
   "outputs": [],
   "source": [
    "from sklearn.model_selection import train_test_split\n",
    "fotos_train, fotos_test, labels_train, labels_test = train_test_split(fotos, labels, test_size=0.33, random_state=100, stratify=labels)"
   ]
  },
  {
   "cell_type": "code",
   "execution_count": null,
   "metadata": {},
   "outputs": [],
   "source": [
    "print(labels_train[54])"
   ]
  },
  {
   "cell_type": "code",
   "execution_count": null,
   "metadata": {},
   "outputs": [],
   "source": [
    "model = LogisticRegression()\n",
    "model.fit(fotos_train, labels_train)"
   ]
  },
  {
   "cell_type": "code",
   "execution_count": null,
   "metadata": {},
   "outputs": [],
   "source": [
    "y_pred = model.predict(fotos_test)\n",
    "accuracy = accuracy_score(labels_test, y_pred)\n",
    "print(\"Accuracy: %.2f%%\" % (accuracy * 100.0))"
   ]
  },
  {
   "cell_type": "code",
   "execution_count": null,
   "metadata": {},
   "outputs": [],
   "source": [
    "joblib.dump(model, \"modelo_fotos.pkl\")"
   ]
  }
 ],
 "metadata": {
  "kernelspec": {
   "display_name": "compu-vision",
   "language": "python",
   "name": "python3"
  },
  "language_info": {
   "codemirror_mode": {
    "name": "ipython",
    "version": 3
   },
   "file_extension": ".py",
   "mimetype": "text/x-python",
   "name": "python",
   "nbconvert_exporter": "python",
   "pygments_lexer": "ipython3",
   "version": "3.9.16"
  },
  "orig_nbformat": 4
 },
 "nbformat": 4,
 "nbformat_minor": 2
}
