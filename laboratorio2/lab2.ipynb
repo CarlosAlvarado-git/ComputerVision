{
 "cells": [
  {
   "cell_type": "code",
   "execution_count": 9,
   "metadata": {},
   "outputs": [],
   "source": [
    "import cv2\n",
    "import numpy as np"
   ]
  },
  {
   "cell_type": "code",
   "execution_count": 4,
   "metadata": {},
   "outputs": [],
   "source": [
    "#Read the image\n",
    "image = cv2.imread('shop.jpeg')"
   ]
  },
  {
   "cell_type": "code",
   "execution_count": 5,
   "metadata": {},
   "outputs": [
    {
     "data": {
      "text/plain": [
       "True"
      ]
     },
     "execution_count": 5,
     "metadata": {},
     "output_type": "execute_result"
    }
   ],
   "source": [
    "#colour pencil sketch effect\n",
    "def pencil_sketch_col(img):\n",
    "    #inbuilt function to create sketch effect in colour and greyscale\n",
    "    sk_gray, sk_color = cv2.pencilSketch(img, sigma_s=60, sigma_r=0.07, shade_factor=0.1) \n",
    "    return  sk_color\n",
    "#We apply the function and save the image.\n",
    "#making the colour pencil sketch\n",
    "a7 = pencil_sketch_col(image)\n",
    "filename = 'pencil_col.jpg'\n",
    "# Using cv2.imwrite() method\n",
    "# Saving the image\n",
    "cv2.imwrite(filename, a7)"
   ]
  },
  {
   "cell_type": "code",
   "execution_count": 10,
   "metadata": {},
   "outputs": [
    {
     "data": {
      "text/plain": [
       "True"
      ]
     },
     "execution_count": 10,
     "metadata": {},
     "output_type": "execute_result"
    }
   ],
   "source": [
    "#sharp effect\n",
    "def sharpen(img):\n",
    "    kernel = np.array([[-1, -1, -1], [-1, 9.5, -1], [-1, -1, -1]])\n",
    "    img_sharpen = cv2.filter2D(img, -1, kernel)\n",
    "    return img_sharpen\n",
    "#Now, let us save the image.\n",
    "\n",
    "#making the sharp image\n",
    "a4 = sharpen(image)\n",
    "filename = 'sharpen.jpg'\n",
    "# Using cv2.imwrite() method\n",
    "# Saving the image\n",
    "cv2.imwrite(filename, a4)"
   ]
  },
  {
   "cell_type": "code",
   "execution_count": 14,
   "metadata": {},
   "outputs": [],
   "source": [
    "\"\"\" \n",
    "Universidad Francisco Marroquin\n",
    "Computer Vision\n",
    "Author: Christian Medina Armas\n",
    "Version: 0.1\n",
    "\"\"\"\n",
    "import sys ; sys.path.append(\"../\")\n",
    " \n",
    "import cv2 as cv\n",
    "\n",
    "\n",
    "# get camera handle \n",
    "device_id = 0\n",
    "cap = cv.VideoCapture(device_id)\n",
    "\n",
    "# verify that video handle is open\n",
    "if (cap.isOpened() == False):\n",
    "    print(\"Video capture failed to open\")\n",
    "\n",
    "# set video capture properties\n",
    "# hardware specific\n",
    "\n",
    "#cap.set(cv.CAP_PROP_FRAME_WIDTH, 1024);cap.set(cv.CAP_PROP_FRAME_HEIGHT, 576)\n",
    "#cap.set(cv.CAP_PROP_FRAME_WIDTH, 800);cap.set(cv.CAP_PROP_FRAME_HEIGHT, 600)\n",
    "\n",
    "\n",
    "# get frame, apply processing and show result\n",
    "while True:\n",
    "    ret, im_rgb = cap.read()\n",
    "    im = im_rgb[:,:,:]\n",
    "\n",
    "    if ret:\n",
    "        # apply operation\n",
    "        sharpen_image = sharpen(im)\n",
    "\n",
    "        \n",
    "        # create windows\n",
    "        win0 = 'Original'\n",
    "        win1 = 'Processed'\n",
    "\n",
    "        r,c = im.shape[0:2]\n",
    "        resize_factor = 2\n",
    "\n",
    "        R = int(r//resize_factor)\n",
    "        C = int(c//resize_factor)\n",
    "        win_size = (C, R) \n",
    "\n",
    "        cv.namedWindow(win0, cv.WINDOW_NORMAL)\n",
    "        cv.namedWindow(win1, cv.WINDOW_NORMAL)\n",
    "\n",
    "        cv.resizeWindow(win0, win_size)\n",
    "        cv.resizeWindow(win1, win_size)\n",
    "\n",
    "        cv.imshow(win0, im)\n",
    "        cv.imshow(win1, sharpen_image)\n",
    "\t\n",
    "        # align windows        \n",
    "        cv.moveWindow(win1, 0, 0)\n",
    "        cv.moveWindow(win0, C, 0)\n",
    "        \n",
    "        # exit with q\n",
    "        if cv.waitKey(1) & 0xFF == ord('q'):\n",
    "            break\n",
    "    else:\n",
    "        break\n",
    "\n",
    "#clean up before exit\n",
    "cap.release()\n",
    "cv.destroyAllWindows()\n"
   ]
  }
 ],
 "metadata": {
  "kernelspec": {
   "display_name": "compu-vision",
   "language": "python",
   "name": "python3"
  },
  "language_info": {
   "codemirror_mode": {
    "name": "ipython",
    "version": 3
   },
   "file_extension": ".py",
   "mimetype": "text/x-python",
   "name": "python",
   "nbconvert_exporter": "python",
   "pygments_lexer": "ipython3",
   "version": "3.9.16"
  }
 },
 "nbformat": 4,
 "nbformat_minor": 2
}
